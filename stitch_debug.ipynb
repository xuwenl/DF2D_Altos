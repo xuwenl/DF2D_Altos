{
 "cells": [
  {
   "cell_type": "code",
   "execution_count": 2,
   "metadata": {},
   "outputs": [
    {
     "name": "stderr",
     "output_type": "stream",
     "text": [
      "/tmp/ipykernel_1394005/2119908796.py:5: DeprecationWarning: \n",
      "Pyarrow will become a required dependency of pandas in the next major release of pandas (pandas 3.0),\n",
      "(to allow more performant data types, such as the Arrow string type, and better interoperability with other libraries)\n",
      "but was not found to be installed on your system.\n",
      "If this would cause problems for you,\n",
      "please provide us feedback at https://github.com/pandas-dev/pandas/issues/54466\n",
      "        \n",
      "  import pandas as pd, numpy as np\n"
     ]
    }
   ],
   "source": [
    "\n",
    "import os, re, IJ_stitch_201020 as IJS\n",
    "import numpy as np\n",
    "import shutil, sys\n",
    "from datetime import datetime\n",
    "import pandas as pd, numpy as np\n",
    "from utils import getTileLocs, plotFOVMap, getMetaData\n",
    "import yaml\n",
    "import argparse \n",
    "from skimage.io import imread\n",
    "\n",
    "\"\"\" We want to stitch all channels of all cycles of DART-FISH.\n",
    "    Since all the images that need to be stitched have to in the same directory, \n",
    "    we have to move images of different FOVs in the same directory and run the image stitching.\n",
    "    As of now (Oct 14th, 2020), after maximum projecting and registering, images of the same FOV \n",
    "    are kept in the same directory.\n",
    "    This code assumes that all images are registered, so one specified cycle and channel is\n",
    "    used to find the tile configuration and that setting will be applied to all other tiles and channels. \n",
    "    IMPORTANT: The ImageJ path has to be set. \n",
    "\"\"\"\n",
    "  \n",
    "def add2dict2dict(key, value, dic):\n",
    "    if key in dic:\n",
    "        dic[key].append(value)\n",
    "    else:\n",
    "        dic[key] = [value]\n",
    "\n",
    "def copy2dir(files2copy, dest_dir):\n",
    "    for infile in files2copy:\n",
    "        shutil.copy2(infile, dest_dir)\n",
    "\n",
    "\n",
    "def createTileConfig(tileNames, tileLocs, outfile):\n",
    "    \"\"\" tileNames is a list of filenames for the tiles. tileLocs is a list of tuples of the form:\n",
    "        (x, y) in which x and y are the location of the tile in pixels\n",
    "    \"\"\"\n",
    "    with open(outfile, 'w') as writer: \n",
    "        writer.writelines(\"# Define the number of dimensions we are working on\\ndim = 2\\n\\n\")\n",
    "        writer.writelines(\"# Define the image coordinates\\n\")\n",
    "        for file, (x, y) in zip(tileNames, tileLocs):\n",
    "            line = \"{0}; ; ({1}, {2})\\n\".format(file, x, y)\n",
    "            writer.writelines(line)\n",
    "\n",
    "\n",
    "def changeTileConfig(reffile, nrefile, nrefNames, fov_pat):\n",
    "    \"\"\" Looping through all lines of the reference tile config, and change the channel\n",
    "        to match the non-reference image files.\n",
    "        reffile: path to the reference tile configuration file\n",
    "        nrefile: path to the tile configation file that we want to generate\n",
    "        nrefNames: file names that need to be substituted for the original reference filenames.\n",
    "        fov_pat: regex pattern that specifies the FOV.\n",
    "    \"\"\"\n",
    "    with open(nrefile, 'w') as writer, open(reffile, 'r') as reader:\n",
    "        for line in reader:\n",
    "            refmtch = re.search(\".tif\", line) # assuming all images are .tif\n",
    "            if refmtch is None:\n",
    "                writer.writelines(line)\n",
    "            else:\n",
    "                fov = re.search(fov_pat, line).group(0) # the FOV in this line\n",
    "                \n",
    "                # finding the non-ref image with the same fov\n",
    "                for nrefn in nrefNames:\n",
    "                    if fov in nrefn:\n",
    "                        # substituting the whole file name section\n",
    "                        writer.writelines(re.sub(r\"^\\S+.tif\", nrefn, line))\n",
    "#                 writer.writelines(re.sub(ref_ch, nrf_ch, line))    \n",
    "\n",
    "                \n",
    "def cleanUpImages(file_dict, file_dir):\n",
    "    \"\"\" Deleted the images we moved for stitching \"\"\"\n",
    "    for key in file_dict:\n",
    "        for file in file_dict[key]:\n",
    "            os.remove(os.path.join(file_dir, os.path.basename(file)))\n",
    "            \n",
    "def writeReport(spOut):\n",
    "    dtn = datetime.now()\n",
    "    dtn = \"{0}-{1}-{2}_{3}:{4}:{5}\".format(dtn.year, dtn.month, dtn.day,\n",
    "                                         dtn.hour, dtn.minute, dtn.second)\n",
    "    print(\"{0}: ImageJ's stdout:\".format(dtn))\n",
    "    print(spOut.stdout)\n",
    "    print(\"{0}: ImageJ's stderr:\".format(dtn))\n",
    "    print(spOut.stderr)    \n",
    "    \n",
    "def readStitchInfo(infoFile, rgx):\n",
    "    \"\"\" read ImageJ's stitching output and spit out the top left position of\n",
    "    each tile image on the stitched image in a dataframe\"\"\"\n",
    "    with open(infoFile, 'r+') as reader:\n",
    "        infoDict = {}\n",
    "        for line in reader:\n",
    "            if line.startswith('# Define the image coordinates'):\n",
    "                break\n",
    "        \n",
    "        positions, xs, ys = [], [], []\n",
    "        for line in reader:\n",
    "            pos_re = re.search(rgx, line)\n",
    "            positions.append(pos_re.group('fov'))\n",
    "            \n",
    "            coord_re = re.search(r\".tif.*\\(([-+]?[0-9]*[.][0-9]*)\" + \n",
    "                                   r\".*?([-+]*[0-9]*[.][0-9]*)\\)\", line)\n",
    "            \n",
    "            xs.append(float(coord_re.group(1)))\n",
    "            ys.append(float(coord_re.group(2)))\n",
    "\n",
    "        return pd.DataFrame({'fov' : positions, 'x' : xs, 'y' : ys})\n"
   ]
  },
  {
   "cell_type": "code",
   "execution_count": 3,
   "metadata": {},
   "outputs": [
    {
     "name": "stdout",
     "output_type": "stream",
     "text": [
      "/home/xli/workspaces/dartfish/Mouse_data/240325_young_mKid/normal_manual/Codes_2D\n"
     ]
    }
   ],
   "source": [
    "!pwd"
   ]
  },
  {
   "cell_type": "code",
   "execution_count": 4,
   "metadata": {},
   "outputs": [],
   "source": [
    "# %cd Codes_2D/"
   ]
  },
  {
   "cell_type": "code",
   "execution_count": 5,
   "metadata": {},
   "outputs": [],
   "source": [
    "# parser = argparse.ArgumentParser()\n",
    "# parser.add_argument('param_file')\n",
    "# args = parser.parse_args()\n",
    "params = yaml.safe_load(open('params_2dreg.yaml', \"r\"))\n"
   ]
  },
  {
   "cell_type": "code",
   "execution_count": 6,
   "metadata": {},
   "outputs": [],
   "source": [
    "# if background subtracted data available, stitch that; otherwise stitch registered data    \n",
    "if params['background_subtraction']:\n",
    "    data_dir = params['background_subt_dir']\n",
    "else:\n",
    "    data_dir = params['reg_dir']\n",
    "\n",
    "stitch_dir = params['stitch_dir']"
   ]
  },
  {
   "cell_type": "code",
   "execution_count": 7,
   "metadata": {},
   "outputs": [],
   "source": [
    "\n",
    "\"\"\" names of rounds to be stitched\"\"\"\n",
    "if not params['stch_rounds'] is None:\n",
    "    rounds = params['stch_rounds']\n",
    "else:\n",
    "    rounds = params['reg_rounds']\n",
    "\n",
    "stitchRef = params['ref_reg_cycle'] if params['stitchRefCycle'] is None else params['stitchRefCycle'] # the round to be used as the reference for stitching\n",
    "stitchChRef = params['ref_reg_ch'] if params['stitchChRef'] is None else params['stitchChRef'] # default reference channel for stitching\n"
   ]
  },
  {
   "cell_type": "code",
   "execution_count": 8,
   "metadata": {},
   "outputs": [],
   "source": [
    "\n",
    "\"\"\" Getting the nominal tile location of the reference round using the metadata file\"\"\"\n",
    "if params['metadata_file'] is None:\n",
    "    metadataFile = os.path.join(params['dir_data_raw'], stitchRef, 'MetaData', \"{}.xml\".format(stitchRef))\n",
    "else:\n",
    "    metadataFile = params['metadata_file']\n",
    "    \n",
    "tileLocs = getTileLocs(metadataFile, umPerPx=0.216) ## make sure the pixel size is right!\n"
   ]
  },
  {
   "cell_type": "code",
   "execution_count": 9,
   "metadata": {},
   "outputs": [],
   "source": [
    "\n",
    "\n",
    "\"\"\" Stitching Inputs\"\"\"\n",
    "# IJS.IJ_Stitch.getImageJ('/media/Home_Raid1_Voyager/kian/Codes/DART-FISH/image_stitching') # can be used to download ImageJ the first time\n",
    "ij_path = params['ij_path']\n",
    "\n",
    "fovs = [file for file in os.listdir(data_dir) if re.match(params['fov_pat'], file)]\n",
    "fovs = sorted(fovs, key = lambda x: int(x[3:]))\n",
    "\n",
    "if not os.path.isdir(stitch_dir):\n",
    "    os.mkdir(stitch_dir)\n",
    "\n"
   ]
  },
  {
   "cell_type": "code",
   "execution_count": 10,
   "metadata": {},
   "outputs": [],
   "source": [
    "\n",
    "\"\"\" Regex that explains the file names. Group \"ch\" is important to be set. \"\"\"\n",
    "# filePattern = r\"(?P<intro>\\S+)?_(?P<rndName>\\S+)_(?P<fov>FOV\\d+)_(?P<ch>ch\\d+)\\S*.tif$\" # 0: all, 1: MIP_rnd#, 2:dc/DRAQ, 3: FOV, 4: chfile_regex = re.compile(filePattern)\n",
    "filePattern = params['stchFilePattern']\n",
    "fov_pat = params['fov_pat'] # pattern to extract the fov# \n",
    "fov_sub = r\"\\1{\" + ''.join(len(str(len(fovs))) * ['i']) + \"}\" # string to substitute the fov# with {ii} or {iii}\n",
    "\n"
   ]
  },
  {
   "cell_type": "code",
   "execution_count": 11,
   "metadata": {},
   "outputs": [],
   "source": [
    "\n",
    "\"\"\" Redirecting stdout to write in a report file\"\"\"\n",
    "dtn = datetime.now()\n",
    "reportfile = os.path.join(stitch_dir, \"{0}-{1}-{2}_{3}:{4}:{5}-stitch report.txt\".format(dtn.year, \n",
    "                                    dtn.month, dtn.day, dtn.hour, dtn.minute, dtn.second))\n",
    "reporter = open(reportfile, 'w')\n",
    "orig_stdout = sys.stdout\n",
    "sys.stdout = reporter\n",
    "\n",
    "file_regex = re.compile(filePattern)\n"
   ]
  },
  {
   "cell_type": "code",
   "execution_count": 12,
   "metadata": {},
   "outputs": [],
   "source": [
    "\n",
    "\"\"\" Stitch the reference round and channel \"\"\"\n",
    "if not stitchRef in rounds:\n",
    "    raise ValueError(\"Stitching reference round is not in rounds list: {}\".format(rounds))\n"
   ]
  },
  {
   "cell_type": "code",
   "execution_count": 13,
   "metadata": {},
   "outputs": [],
   "source": [
    "\n",
    "\"\"\" Copy images to stitching folder\"\"\"\n",
    "refImgPaths = []    # contains the path to images-to-be-stitched in each round\n",
    "for fov in fovs:\n",
    "    fov_files = os.listdir(os.path.join(data_dir, fov))\n",
    "\n",
    "    for file in fov_files:\n",
    "        mtch = file_regex.match(file)\n",
    "        if mtch is not None:\n",
    "            if (mtch.group('rndName') == stitchRef) and (mtch.group('ch') == stitchChRef):\n",
    "                refImgPaths.append(os.path.join(data_dir, fov, file))\n"
   ]
  },
  {
   "cell_type": "code",
   "execution_count": 14,
   "metadata": {},
   "outputs": [],
   "source": [
    "\n",
    "\"\"\" Making the reference tile configuration file \"\"\"\n",
    "intialRefTileConfigFile = \"Ref_{0}_{1}_TileConfig.txt\".format(stitchRef, stitchChRef)\n",
    "createTileConfig([os.path.basename(file) for file in refImgPaths], \n",
    "                tileLocs,\n",
    "                os.path.join(stitch_dir, intialRefTileConfigFile))\n"
   ]
  },
  {
   "cell_type": "code",
   "execution_count": 15,
   "metadata": {},
   "outputs": [],
   "source": [
    "\n",
    "\"\"\"Move reference images to the stitch directory\"\"\"\n",
    "copy2dir(refImgPaths, stitch_dir)\n"
   ]
  },
  {
   "cell_type": "code",
   "execution_count": 16,
   "metadata": {},
   "outputs": [
    {
     "data": {
      "text/plain": [
       "'dc3_000{iii}_ch03.tif'"
      ]
     },
     "execution_count": 16,
     "metadata": {},
     "output_type": "execute_result"
    }
   ],
   "source": [
    "\n",
    "\"\"\" Stitch the reference channel with random-image fusion\"\"\"\n",
    "print(datetime.now().strftime(\"%Y-%m-%d_%H:%M:%S: Stitching reference {0}, {1}\".format(stitchRef, stitchChRef)))\n",
    "refTileConfigFile = \"Ref_{0}_{1}_TileConfig.txt\".format(stitchRef, stitchChRef)\n",
    "f_pat = re.sub(fov_pat, fov_sub, os.path.basename(refImgPaths[0])) # ImageJ sequence pattern\n",
    "f_pat\n",
    "# commented this part because the FOV is not overlapping\n",
    "# refStitcher = IJS.IJ_Stitch(input_dir=stitch_dir, output_dir=stitch_dir, file_names=f_pat,\n",
    "#                          imagej_path = ij_path, Type = 'Grid: row-by-row', Order = 'Left & Up', \n",
    "#                          tile_overlap = tileOverlap, grid_size_x=grid_size_x, grid_size_y=grid_size_y, \n",
    "#                          output_textfile_name=refTileConfigFile, \n",
    "#                          fusion_method = 'Intensity of random input tile',\n",
    "#                          compute_overlap=True, macroName='{0}_{1}.ijm'.format(stitchRef, stitchChRef),\n",
    "#                          output_name = 'Ref_{0}_{1}_random_fusion.tif'.format(stitchRef, stitchChRef))\n",
    "\n",
    "# refStitcher = IJS.IJ_Stitch(input_dir=stitch_dir, output_dir=stitch_dir, file_names=f_pat,\n",
    "#                            imagej_path = ij_path, Type = 'Positions from file', \n",
    "#                            Order = 'Defined by TileConfiguration', \n",
    "#                            layout_file = intialRefTileConfigFile,\n",
    "#                            output_textfile_name=refTileConfigFile, \n",
    "#                            output_name = 'Ref_{0}_{1}_random_fusion.tif'.format(stitchRef, stitchChRef),\n",
    "#                            compute_overlap=True, macroName='{0}_{1}.ijm'.format(stitchRef, stitchChRef),\n",
    "#                            fusion_method = 'Intensity of random input tile')\n",
    "# res = refStitcher.run()\n",
    "# writeReport(res)\n"
   ]
  },
  {
   "cell_type": "code",
   "execution_count": 19,
   "metadata": {},
   "outputs": [],
   "source": [
    "print(rounds)"
   ]
  },
  {
   "cell_type": "code",
   "execution_count": 22,
   "metadata": {},
   "outputs": [],
   "source": [
    "for rnd in [rounds[0]]:\n",
    "    print(rnd)"
   ]
  },
  {
   "cell_type": "code",
   "execution_count": 23,
   "metadata": {},
   "outputs": [],
   "source": [
    "\n",
    "\"\"\" Stitch everything using the reference TileConfig\"\"\"\n",
    "for rnd in [rounds[0]]:\n",
    "    \"\"\" Copy images to stitching folder\"\"\"\n",
    "    thisRnd = {}    # contains the path to images-to-be-stitched in each round\n",
    "    for fov in fovs:\n",
    "        fov_files = os.listdir(os.path.join(data_dir, fov))\n",
    "        print(fov_files)\n",
    "        for file in fov_files:\n",
    "            mtch = file_regex.match(file)\n",
    "            if mtch is not None:\n",
    "                if mtch.group('rndName') == rnd:\n",
    "                    add2dict2dict(mtch.group('ch'), os.path.join(data_dir, fov, file), thisRnd)\n",
    "                    \n",
    "    \"\"\"Reorganize\"\"\"\n",
    "    chans = list(thisRnd)\n",
    "    for ch in chans:\n",
    "        copy2dir(thisRnd[ch], stitch_dir)\n",
    "    print(thisRnd)\n",
    "    \n",
    "    \"\"\" Stitch the non-reference channels\"\"\"\n",
    "    for nch in chans:\n",
    "        nrefTileConfig = \"{0}-to-{1}_{2}_TileConfig.registered.txt\".format(stitchRef, rnd, nch)\n",
    "        changeTileConfig(reffile=os.path.join(stitch_dir, \"Ref_{0}_{1}_TileConfig.registered.txt\".format(stitchRef, stitchChRef)),\n",
    "                         nrefile=os.path.join(stitch_dir, nrefTileConfig), \n",
    "                         nrefNames=[os.path.basename(f) for f in thisRnd[nch]], \n",
    "                         fov_pat = fov_pat\n",
    "                         )\n",
    "        \n",
    "        f_pat = re.sub(fov_pat, fov_sub, os.path.basename(thisRnd[nch][0])) # ImageJ sequence pattern\n",
    "        print(stitch_dir,stitch_dir,f_pat,ij_path,os.path.join(nrefTileConfig),'{0}_{1}.ijm'.format(rnd, nch))\n",
    "        print(datetime.now().strftime(\"%Y-%m-%d_%H:%M:%S: Stitching round {0}, {1} using the coordinates from {2}\".format(rnd, nch, stitchRef)))\n",
    "        nonRefStitcher = IJS.IJ_Stitch(input_dir=stitch_dir, output_dir=stitch_dir, file_names=f_pat,\n",
    "                                       imagej_path = ij_path, Type = 'Positions from file', \n",
    "                                       Order = 'Defined by TileConfiguration', \n",
    "                                       layout_file = os.path.join(nrefTileConfig),\n",
    "                                       compute_overlap=False, macroName='{0}_{1}.ijm'.format(rnd, nch),\n",
    "                                       fusion_method = 'Max. Intensity')\n",
    "        res = nonRefStitcher.run()\n",
    "        writeReport(res)\n",
    "#         break\n",
    "    \n",
    "    cleanUpImages(thisRnd, stitch_dir)\n",
    "    reporter.flush()\n",
    "#     break\n",
    "   \n"
   ]
  },
  {
   "cell_type": "code",
   "execution_count": 24,
   "metadata": {},
   "outputs": [
    {
     "data": {
      "text/plain": [
       "'draq5_merged_000{iii}_ch00.tif'"
      ]
     },
     "execution_count": 24,
     "metadata": {},
     "output_type": "execute_result"
    }
   ],
   "source": [
    "f_pat"
   ]
  },
  {
   "cell_type": "code",
   "execution_count": null,
   "metadata": {},
   "outputs": [],
   "source": [
    "../2_RegisteredMIPfirst/stitched/ \n",
    "../2_RegisteredMIPfirst/stitched/ \n",
    "draq5_merged_000{iii}_ch01.tif \n",
    "/home/xli/bin/Fiji.app/ImageJ-linux64 \n",
    "dc3-to-draq5_merged_ch01_TileConfig.registered.txt \n",
    "draq5_merged_ch01.ijm"
   ]
  },
  {
   "cell_type": "code",
   "execution_count": null,
   "metadata": {},
   "outputs": [],
   "source": [
    "    \n",
    "\"\"\" Writing a CSV file for the coordinates of the registration reference cycle\"\"\"\n",
    "allfiles = os.listdir(stitch_dir)\n",
    "ref_ch = stitchChRef# if rnd in stitchChRefAlt else stitchChRef \n",
    "regRef_tileconfig_file = [f for f in allfiles \n",
    "                          if f == \"Ref_{0}_{1}_TileConfig.registered.txt\".format(stitchRef, stitchChRef)]\n",
    "coords = readStitchInfo(os.path.join(stitch_dir, regRef_tileconfig_file[0]), filePattern[0:-1])\n",
    "coords.to_csv(os.path.join(stitch_dir, 'registration_reference_coordinates.csv'), index = False)\n",
    "\n",
    "\n",
    "sys.stdout = orig_stdout # restoring the stdout pipe to normal\n",
    "\n"
   ]
  },
  {
   "cell_type": "code",
   "execution_count": null,
   "metadata": {},
   "outputs": [],
   "source": [
    "\n",
    "\"\"\" Plotting the FOV map\"\"\"\n",
    "allStitchedFiles = os.listdir(stitch_dir)\n",
    "bgfile = [file for file in allStitchedFiles if (re.search(params['fovMap_bg'][0], file) is not None) and (re.search(params['fovMap_bg'][1], file) is not None) and (file.endswith(\".tif\"))]\n",
    "if len(bgfile) > 1:\n",
    "    raise Exception(\"Files {} were found for background of FOV map\".format(bgfile))\n",
    "bgImg = imread(os.path.join(stitch_dir, bgfile[0]))\n",
    "bgImg = (bgImg >> 4).astype(np.uint8)\n",
    "# npix, _, _ = getMetaData(metadataFile)\n",
    "\n",
    "plotFOVMap(bgImg, coords_file=os.path.join(stitch_dir, 'registration_reference_coordinates.csv'), figure_height=12, \n",
    "    savefile=os.path.join(stitch_dir, \"fov_map.pdf\"), fov_size_px={'1' : 2048, '2' : 2048})\n",
    "\n"
   ]
  }
 ],
 "metadata": {
  "kernelspec": {
   "display_name": "imaging",
   "language": "python",
   "name": "imaging"
  },
  "language_info": {
   "codemirror_mode": {
    "name": "ipython",
    "version": 3
   },
   "file_extension": ".py",
   "mimetype": "text/x-python",
   "name": "python",
   "nbconvert_exporter": "python",
   "pygments_lexer": "ipython3",
   "version": "3.12.1"
  }
 },
 "nbformat": 4,
 "nbformat_minor": 4
}
