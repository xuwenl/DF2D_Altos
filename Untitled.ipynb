{
 "cells": [
  {
   "cell_type": "code",
   "execution_count": null,
   "id": "2224e13e-7a31-4fc7-928b-9afdbc4a4622",
   "metadata": {},
   "outputs": [],
   "source": [
    "a = (1,2)\n",
    "a['1']"
   ]
  }
 ],
 "metadata": {
  "kernelspec": {
   "display_name": "base (/usr/conda)",
   "language": "python",
   "name": "system_base"
  },
  "language_info": {
   "codemirror_mode": {
    "name": "ipython",
    "version": 3
   },
   "file_extension": ".py",
   "mimetype": "text/x-python",
   "name": "python",
   "nbconvert_exporter": "python",
   "pygments_lexer": "ipython3",
   "version": "3.10.13"
  }
 },
 "nbformat": 4,
 "nbformat_minor": 5
}
